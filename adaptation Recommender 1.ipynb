{
 "cells": [
  {
   "cell_type": "code",
   "execution_count": 1,
   "metadata": {},
   "outputs": [
    {
     "name": "stdout",
     "output_type": "stream",
     "text": [
      "{'trace_id': 0, 'events': [{'name': 'Process Start Event', 'start_time': datetime.datetime(2022, 8, 1, 9, 0, tzinfo=datetime.timezone.utc), 'end_time': datetime.datetime(2022, 8, 1, 9, 0, tzinfo=datetime.timezone.utc), 'resource': None, 'cost': 0}, {'name': 'A', 'start_time': datetime.datetime(2022, 8, 1, 9, 0, tzinfo=datetime.timezone.utc), 'end_time': datetime.datetime(2022, 8, 1, 10, 0, tzinfo=datetime.timezone.utc), 'resource': 'Default Resource-000001', 'cost': 20.0}, {'name': 'B', 'start_time': datetime.datetime(2022, 8, 1, 10, 0, tzinfo=datetime.timezone.utc), 'end_time': datetime.datetime(2022, 8, 1, 11, 0, tzinfo=datetime.timezone.utc), 'resource': 'Default Resource-000003', 'cost': 20.0}, {'name': 'C', 'start_time': datetime.datetime(2022, 8, 1, 11, 0, tzinfo=datetime.timezone.utc), 'end_time': datetime.datetime(2022, 8, 1, 12, 0, tzinfo=datetime.timezone.utc), 'resource': 'Default Resource-000003', 'cost': 20.0}, {'name': 'Process End Event', 'start_time': datetime.datetime(2022, 8, 1, 12, 0, tzinfo=datetime.timezone.utc), 'end_time': datetime.datetime(2022, 8, 1, 12, 0, tzinfo=datetime.timezone.utc), 'resource': None, 'cost': 0}], 'adapted': False}\n",
      "['skip-activity', 'insert-activity']\n"
     ]
    }
   ],
   "source": [
    "from tinydb import TinyDB, Query\n",
    "\n",
    "event_logs = {}\n",
    "%store -r event_logs\n",
    "print(event_logs[0])\n",
    "\n",
    "ADAPTATIONS = []\n",
    "%store -r ADAPTATIONS\n",
    "print(ADAPTATIONS)\n",
    "\n",
    "PATH_TO_DB = ''\n",
    "%store -r PATH_TO_DB\n",
    "db = TinyDB(PATH_TO_DB)"
   ]
  },
  {
   "cell_type": "code",
   "execution_count": 2,
   "metadata": {},
   "outputs": [],
   "source": [
    "from statistics import mean\n",
    "import math\n",
    "\n",
    "def recommend_adaptation_action(kpi_threshold, trace_log, is_time_optimization, prediction_method='perfect'):\n",
    "    estimated_cycle_time = estimate_cycle_time(event_logs, trace_log, method=prediction_method)\n",
    "\n",
    "    adapted_cycle_time_estimation = 0\n",
    "    \n",
    "    if is_time_optimization and estimated_cycle_time < kpi_threshold: # no violation\n",
    "        best_adaptation = None\n",
    "    else:\n",
    "        # violation: adaptation needed\n",
    "        best_adaptation, adapted_cycle_time_estimation = get_best_adaptation(kpi_threshold, estimated_cycle_time, trace_log, is_time_optimization)\n",
    "\n",
    "    time_difference_closest_adapted_and_adapted_estimation, time_difference_closest_adapted_and_this = calculate_time_difference_to_closest_adapted(event_logs, trace_log, adapted_cycle_time_estimation)\n",
    "    \n",
    "\n",
    "    store_adaptation_in_db(kpi_threshold, prediction_method, estimated_cycle_time, trace_log, is_time_optimization, best_adaptation, time_difference_closest_adapted_and_adapted_estimation, time_difference_closest_adapted_and_this)\n",
    "    \n",
    "    return best_adaptation\n",
    "    \n",
    "def get_best_adaptation(kpi_threshold, estimated_cycle_time, trace_log, is_time_optimization):\n",
    "    best_cycle_time_change = 0\n",
    "    if not is_time_optimization:\n",
    "        best_cycle_time_change = math.inf\n",
    "    \n",
    "    best_adaptation = None\n",
    "    \n",
    "    # get best adaptation: minimum addition to or maximum reduction from cycle time\n",
    "    for adaptation in ['skip-activity']:\n",
    "        adaptation_cycle_time_change = get_adaptation_cycle_time_change(adaptation, trace_log) # negative value for reductions\n",
    "        \n",
    "        if adaptation_cycle_time_change < best_cycle_time_change:\n",
    "            # if better than last available adaptation (default is no adaptation)\n",
    "            best_cycle_time_change = adaptation_cycle_time_change\n",
    "            best_adaptation = adaptation\n",
    "            \n",
    "    \n",
    "    adapted_cycle_time_estimation = estimated_cycle_time + best_cycle_time_change\n",
    "    \n",
    "    if (is_time_optimization and adapted_cycle_time_estimation < kpi_threshold) \\\n",
    "        or not is_time_optimization:\n",
    "        return best_adaptation, adapted_cycle_time_estimation\n",
    "    \n",
    "    return None, 0\n",
    "\n",
    "def calculate_time_difference_to_closest_adapted(event_logs, trace_log, adapted_cycle_time_estimation):\n",
    "    trace_id = trace_log['trace_id']\n",
    "    trace_duration = get_trace_duration(trace_log)\n",
    "    \n",
    "    pointer_prev = trace_id\n",
    "    \n",
    "    while pointer_prev > 0 and event_logs[pointer_prev]['adapted'] == False:\n",
    "        pointer_prev-=1\n",
    "    \n",
    "    closest_prev_adapted_cycle_time = get_trace_duration(event_logs[pointer_prev])\n",
    "\n",
    "    pointer_next = trace_id\n",
    "    \n",
    "    while pointer_next < len(event_logs) and event_logs[pointer_next]['adapted'] == False:\n",
    "        pointer_next+=1\n",
    "    \n",
    "    closest_next_adapted_cycle_time = get_trace_duration(event_logs[pointer_next])\n",
    "\n",
    "    average_next_prev_cycle_time = (closest_prev_adapted_cycle_time + closest_next_adapted_cycle_time) / 2\n",
    "\n",
    "    return abs(average_next_prev_cycle_time - adapted_cycle_time_estimation), abs(average_next_prev_cycle_time - trace_duration) if not trace_log['adapted'] else 0\n",
    "        \n",
    "    \n",
    "def get_adaptation_cycle_time_change(adaptation, trace):\n",
    "    # we assume adaptations and their impact value are already available\n",
    "    # a map of trace variants to time reduction/addition value\n",
    "    trace_id = trace['trace_id']\n",
    "    adaptation_impact = get_adaptation_impact(adaptation, trace_id) \n",
    "    \n",
    "    return adaptation_impact\n",
    "\n",
    "def get_adaptation_impact(adaptation, trace_id):\n",
    "    Adaptation_Impact = Query() \n",
    "    impact = db.search((Adaptation_Impact.up_to_trace_id == trace_id) & (Adaptation_Impact.adaptation_type == adaptation))\n",
    "    if (len(impact) != 1):\n",
    "        print('get_adaptation_impact: Not a Single row returned as adaptation impact!')\n",
    "        return 0\n",
    "    return impact[0]['adaptation_effect_time']\n",
    "    \n",
    "def estimate_cycle_time(event_logs, trace_log, method='average'):\n",
    "\n",
    "    estimation_cycle_time = 0\n",
    "\n",
    "    if method == 'average':\n",
    "        # a trace is similar if it starts with this partial trace\n",
    "        estimation_cycle_time = get_average_similar_traces(event_logs, trace_log)\n",
    "    elif method == 'perfect':\n",
    "        estimation_cycle_time = get_trace_duration(trace_log)\n",
    "    \n",
    "    # alternatively: 1) a perfect estimation with some marginal error or 2) Nirdizati regression estimator could be used\n",
    "    return estimation_cycle_time\n",
    "\n",
    "def get_average_similar_traces(event_logs, trace_log):\n",
    "    durations_similar = []\n",
    "\n",
    "    for past_trace in event_logs:\n",
    "        duration = get_trace_duration(past_trace)\n",
    "        if is_trace_similar(past_trace, trace_log):\n",
    "            durations_similar.append(duration)\n",
    "\n",
    "    average_durations = mean(durations_similar)\n",
    "    return average_durations\n",
    "\n",
    "def get_trace_duration(trace):\n",
    "    events = trace['events']\n",
    "    duration = (events[-1]['end_time'] - events[0]['start_time']).total_seconds()\n",
    "    return duration\n",
    "\n",
    "def remove_until_checkpoint(trace, adaptation_checkpoint):\n",
    "    last_event = trace['events'][-1]\n",
    "\n",
    "    while last_event is not None and last_event['name'] not in adaptation_checkpoint:\n",
    "        trace['events'].pop()\n",
    "        last_event = trace['events'][-1]\n",
    "\n",
    "    \n",
    "def is_trace_similar(trace_original, trace_partial):\n",
    "\n",
    "    trace_original_activities = get_activities_list(trace_original)\n",
    "    trace_partial_activities = get_activities_list(trace_partial)\n",
    "\n",
    "    if len(trace_original_activities) < len(trace_partial_activities):\n",
    "        return False\n",
    "\n",
    "    for index, activity in enumerate(trace_partial_activities):\n",
    "        if activity != trace_original_activities[index]:\n",
    "            return False\n",
    "\n",
    "    return True\n",
    "\n",
    "def get_activities_list(trace):\n",
    "    events = trace['events']\n",
    "    activities = []\n",
    "    for event in events:\n",
    "        activities.append(event['name'])\n",
    "    \n",
    "    return activities\n",
    "\n",
    "def measure_estimation_accuracy(trace_completed, estimation_seconds):\n",
    "    \n",
    "    duration = get_trace_duration(trace_completed)\n",
    "    error = abs(duration - estimation_seconds)\n",
    "    APE = float(error/duration) * 100\n",
    "\n",
    "    return APE\n",
    "\n",
    "def measure_mean_absolute_percentage_error(event_logs, estimation_method=None):\n",
    "    APEs = []\n",
    "    for trace in event_logs:\n",
    "        estimation_cycle_time = estimate_cycle_time(event_logs, trace, method=estimation_method)\n",
    "        absolute_percentage_error = measure_estimation_accuracy(trace, estimation_cycle_time)\n",
    "        APEs.append(absolute_percentage_error)\n",
    "\n",
    "    return mean(APEs), APEs\n",
    "\n",
    "def store_adaptation_in_db(kpi_threshold, prediction_method, estimated_cycle_time, trace_log, is_time_optimization, recommended_adaptation, time_difference_closest_adapted_and_adapted_estimation, time_difference_closest_adapted_and_this):\n",
    "    adaptation_table = db.table('adaptations')\n",
    "    trace_activities = get_activities_list(trace_log)\n",
    "    adaptation_table.insert({'kpi_threshold':kpi_threshold, 'prediction_method':prediction_method, 'estimated_cycle_time':estimated_cycle_time, \\\n",
    "    'trace_activities':trace_activities, 'is_time_optimization':is_time_optimization, 'recommended_adaptation':recommended_adaptation, \\\n",
    "    'time_difference_closest_adapted_and_adapted_estimation':time_difference_closest_adapted_and_adapted_estimation, 'time_difference_closest_adapted_and_this':time_difference_closest_adapted_and_this})\n"
   ]
  },
  {
   "cell_type": "markdown",
   "metadata": {},
   "source": [
    "### Plot cycle time prediction error using an estimation method"
   ]
  },
  {
   "cell_type": "code",
   "execution_count": 3,
   "metadata": {},
   "outputs": [
    {
     "name": "stdout",
     "output_type": "stream",
     "text": [
      "MAPE method: average: 0.0\n"
     ]
    },
    {
     "data": {
      "text/plain": [
       "[Text(0.5, 1.0, 'Absolute Percentage Error Frequency Histogram'),\n",
       " Text(0, 0.5, 'Trace Frequency'),\n",
       " Text(0.5, 0, 'Absolute Percentage Error')]"
      ]
     },
     "execution_count": 3,
     "metadata": {},
     "output_type": "execute_result"
    },
    {
     "data": {
      "image/png": "[encoded data removed]",
      "text/plain": [
       "<Figure size 700x500 with 1 Axes>"
      ]
     },
     "metadata": {
      "needs_background": "light"
     },
     "output_type": "display_data"
    }
   ],
   "source": [
    "import matplotlib.pyplot as plt\n",
    "import numpy as np\n",
    "import copy\n",
    "\n",
    "MAPE, APEs = measure_mean_absolute_percentage_error(event_logs, estimation_method='perfect')\n",
    "print('MAPE method: average:', MAPE)\n",
    "\n",
    "%matplotlib inline\n",
    "plt.rcParams.update({'figure.figsize':(7,5), 'figure.dpi':100})\n",
    "\n",
    "# Plot Histogram on x\n",
    "x = APEs\n",
    "plt.hist(x, bins=50, range=[0, 500])\n",
    "plt.hist(x, bins=5, range=[0, 50])\n",
    "plt.gca().set(title='Absolute Percentage Error Frequency Histogram', ylabel='Trace Frequency', xlabel='Absolute Percentage Error')\n"
   ]
  },
  {
   "cell_type": "code",
   "execution_count": 4,
   "metadata": {},
   "outputs": [],
   "source": [
    "db.drop_table('adaptations')\n",
    "\n",
    "for trace in event_logs:\n",
    "    recommend_adaptation_action(80000, trace, is_time_optimization=True, prediction_method='perfect')"
   ]
  }
 ],
 "metadata": {
  "interpreter": {
   "hash": "756d3e229894c1360f2ca7195885572463c9f7d415e2dce4f2bd2edd9ff2749f"
  },
  "kernelspec": {
   "display_name": "Python 3.9.7 ('base')",
   "language": "python",
   "name": "python3"
  },
  "language_info": {
   "codemirror_mode": {
    "name": "ipython",
    "version": 3
   },
   "file_extension": ".py",
   "mimetype": "text/x-python",
   "name": "python",
   "nbconvert_exporter": "python",
   "pygments_lexer": "ipython3",
   "version": "3.9.7"
  },
  "orig_nbformat": 4
 },
 "nbformat": 4,
 "nbformat_minor": 2
}
