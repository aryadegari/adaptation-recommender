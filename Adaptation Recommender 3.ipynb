{
 "cells": [
  {
   "cell_type": "code",
   "execution_count": null,
   "metadata": {},
   "outputs": [],
   "source": [
    "# Algorithm: Adaptation recommender 3\n",
    "# Input: partial_trace\n",
    "# Output: recommended adaptation action\n",
    "\n",
    "# def recommend_adaptation_3(partial_trace):\n",
    "#   recommended_adaptation_action = None\n",
    "#   event_logs = get_past_event_logs()\n",
    "\n",
    "#   classifier_model = learn_model_for_adaptations(event_logs)\n",
    "#   trace_class = classifier_model.classify(patrial_trace)\n",
    "\n",
    "#   recommended_adaptation_action = trace_class.adaptation_action\n",
    "  \n",
    "#   return recommended_adaptation_action"
   ]
  },
  {
   "cell_type": "code",
   "execution_count": null,
   "metadata": {},
   "outputs": [],
   "source": [
    "def classify_trace(classifier_model, running_trace):\n",
    "    return trace_class\n",
    "\n",
    "def recommend_adaptation(running_trace, classifier_model):\n",
    "\n",
    "  recommended_adaptation_action = None\n",
    "\n",
    "  trace_class = classify_trace(classifier_model, running_trace)\n",
    "\n",
    "  recommended_adaptation_action = trace_class\n",
    "  \n",
    "  return recommended_adaptation_action"
   ]
  },
  {
   "cell_type": "code",
   "execution_count": null,
   "metadata": {},
   "outputs": [],
   "source": [
    "def learn_model_for_adaptations(train_event_logs, output_model_name):\n",
    "    return\n",
    "\n",
    "def get_expected_adaptation_action_from_event_logs(running_trace, event_logs):\n",
    "    return\n",
    "\n",
    "def load_learned_model_for_adaptations(learned_model_name):\n",
    "    return classifier_model\n",
    "\n",
    "def evaluate_trace(running_trace, recommended_adaptation_action, event_logs):\n",
    "    expected_adaptation_action = get_expected_adaptation_action_from_event_logs(running_trace, event_logs)\n",
    "    if expected_adaptation_action == recommended_adaptation_action:\n",
    "        return 1\n",
    "    else:\n",
    "        return 0\n",
    "    \n",
    "def evaluate_test_traces(test_traces_event_logs, learned_model_name, event_logs):\n",
    "    classifier_model = load_learned_model_for_adaptations(learned_model_name)\n",
    "    num_traces = len(test_traces_event_logs)\n",
    "    recommendation_hit_count = 0\n",
    "\n",
    "    for running_trace in test_traces_event_logs:\n",
    "        recommended_adaptation_action = recommend_adaptation(running_trace, classifier_model)\n",
    "        evaluation_result = evaluate_trace(running_trace, recommended_adaptation_action, event_logs)\n",
    "        if evaluation_result == 1:\n",
    "            recommendation_hit_count += 1\n",
    "    \n",
    "    overall_recommendation_hit_ratio = recommendation_hit_count / num_traces\n",
    "    return overall_recommendation_hit_ratio\n",
    "\n",
    "def make_test_traces_event_logs(traces_event_logs):\n",
    "    # remove after running point in the trace\n",
    "    return test_traces_event_logs\n",
    "\n",
    "\n",
    "split_points = [0.2, 0.4, 0.66]\n",
    "train_test_ratio = 2.0\n",
    "\n"
   ]
  }
 ],
 "metadata": {
  "kernelspec": {
   "display_name": "Python 3.9.6 64-bit",
   "language": "python",
   "name": "python3"
  },
  "language_info": {
   "name": "python",
   "version": "3.9.6"
  },
  "orig_nbformat": 4,
  "vscode": {
   "interpreter": {
    "hash": "31f2aee4e71d21fbe5cf8b01ff0e069b9275f58929596ceb00d14d90e3e16cd6"
   }
  }
 },
 "nbformat": 4,
 "nbformat_minor": 2
}
