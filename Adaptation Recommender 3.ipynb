{
 "cells": [
  {
   "cell_type": "code",
   "execution_count": null,
   "metadata": {},
   "outputs": [],
   "source": [
    "# Algorithm: Adaptation recommender 3\n",
    "# Input: partial_trace\n",
    "# Output: recommended adaptation action\n",
    "\n",
    "# def recommend_adaptation_3(partial_trace):\n",
    "#   recommended_adaptation_action = None\n",
    "#   event_logs = get_past_event_logs()\n",
    "\n",
    "#   classifier_model = learn_model_for_adaptations(event_logs)\n",
    "#   trace_class = classifier_model.classify(patrial_trace)\n",
    "\n",
    "#   recommended_adaptation_action = trace_class.adaptation_action\n",
    "  \n",
    "#   return recommended_adaptation_action"
   ]
  },
  {
   "cell_type": "code",
   "execution_count": null,
   "metadata": {},
   "outputs": [],
   "source": [
    "def get_past_event_logs():\n",
    "    return event_logs\n",
    "\n",
    "def learn_model_for_adaptations(event_logs):\n",
    "    return classifier_model\n",
    "\n",
    "def recommend_adaptation_3(partial_trace):\n",
    "\n",
    "  recommended_adaptation_action = None\n",
    "\n",
    "  event_logs = get_past_event_logs()\n",
    "\n",
    "  classifier_model = learn_model_for_adaptations(event_logs)\n",
    "  trace_class = classifier_model.classify(patrial_trace)\n",
    "\n",
    "  recommended_adaptation_action = trace_class.adaptation_action\n",
    "  \n",
    "  return recommended_adaptation_action"
   ]
  }
 ],
 "metadata": {
  "kernelspec": {
   "display_name": "Python 3.9.7 ('base')",
   "language": "python",
   "name": "python3"
  },
  "language_info": {
   "name": "python",
   "version": "3.9.7"
  },
  "orig_nbformat": 4,
  "vscode": {
   "interpreter": {
    "hash": "756d3e229894c1360f2ca7195885572463c9f7d415e2dce4f2bd2edd9ff2749f"
   }
  }
 },
 "nbformat": 4,
 "nbformat_minor": 2
}
